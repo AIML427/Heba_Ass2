{
 "cells": [
  {
   "cell_type": "markdown",
   "id": "d227c035",
   "metadata": {},
   "source": [
    "#### Dataset:\n",
    "The dataset consist of 64 features and 6830 instances.\n",
    "- Instances: each instance regresent a gens.\n",
    "- Feature: each feature represent a cancer cell line."
   ]
  },
  {
   "cell_type": "markdown",
   "id": "0f6f2150",
   "metadata": {},
   "source": [
    "**Requirment:** The requirment to clusteing the gens (instances), as following: \n",
    "- Apply dimentionality reduction PCA with 2 component\n",
    "- Apply clustering (Partitioning Cluster) on first two columns (PCA 2 component) "
   ]
  },
  {
   "cell_type": "markdown",
   "id": "5254828e",
   "metadata": {},
   "source": [
    "### **Data Collection and Preparation**"
   ]
  },
  {
   "cell_type": "code",
   "execution_count": 7,
   "id": "aa470c6b",
   "metadata": {},
   "outputs": [],
   "source": [
    "import numpy\n",
    "import pandas as pd\n",
    "import numpy as np\n",
    "import matplotlib.pyplot as plt\n",
    "\n",
    "data = pd.read_csv('nci60_data.csv') # load dataset\n",
    "data = data.iloc[:, 1:] # exclude the first column (ID)\n",
    "#X = data.iloc[:, :-1]\n",
    "#y = data.iloc[:, -1]  # Target labels"
   ]
  },
  {
   "cell_type": "markdown",
   "id": "0f296402",
   "metadata": {},
   "source": [
    "### **PCA and Clustering**\n",
    "- Implement Diemntionality Reduction on loaded dataset by implement `PCA` as required in assignment.\n",
    "- Afterward, apply clustering (Partitioning Clustering) on the output dataset from PCA."
   ]
  },
  {
   "cell_type": "code",
   "execution_count": null,
   "id": "78b93162",
   "metadata": {},
   "outputs": [],
   "source": [
    "import pandas as pd\n",
    "from sklearn.preprocessing import scale\n",
    "from sklearn.decomposition import PCA\n",
    "\n",
    "# ---------------------------- Dimensionality Reduction PCA ----------------------------\n",
    "X = scale(data.T)\n",
    "PCA_data = PCA().fit_transform(X)\n",
    "PCA_data = pd.DataFrame(data=PCA_data, index=data.columns) # convert to DataFrame for easier plotting \n",
    "\n",
    "# Plot the PCA results\n",
    "plt.figure(figsize=(10, 8))\n",
    "plt.scatter(PCA_data.iloc[:, 0], PCA_data.iloc[:, 1], alpha=0.5)\n",
    "plt.title('PCA of NCI60 Data')\n",
    "plt.xlabel('Principal Component 1')\n",
    "plt.ylabel('Principal Component 2')\n",
    "plt.grid()\n",
    "plt.show()"
   ]
  },
  {
   "cell_type": "markdown",
   "id": "5fa28154",
   "metadata": {},
   "source": [
    "### **Heirarical Clustering**\n",
    "Based on the requirment, we use heirarical algorithm cluster with following crieteria:\n",
    "- **Similarity Measure:** use `Eculidian Distance` that measures straight-line distance in d-dimensional space.\n",
    "- **Likage Crieteria:** use `complete linkage`, which it computes dissimilarities between all pairs of elements in the two clusters. Distance is the maximum distance between any point in A and any point in B. Produces compact, spherical clusters."
   ]
  },
  {
   "cell_type": "code",
   "execution_count": null,
   "id": "6cc8c5ff",
   "metadata": {},
   "outputs": [],
   "source": []
  },
  {
   "cell_type": "markdown",
   "id": "136b468b",
   "metadata": {},
   "source": [
    "### **K-mean Clustering**"
   ]
  },
  {
   "cell_type": "code",
   "execution_count": null,
   "id": "fdfbb5f3",
   "metadata": {},
   "outputs": [],
   "source": [
    "from sklearn.cluster import KMeans\n",
    "from sklearn.preprocessing import StandardScaler\n",
    "from sklearn.pipeline import make_pipeline\n",
    "from sklearn.model_selection import train_test_split\n",
    "from sklearn.metrics import silhouette_samples, silhouette_score\n",
    "from sklearn.metrics import pairwise_distances\n",
    "\n",
    "# ---------------------------- Clustering (Partitioning Clustering) ----------------------------\n",
    "# implement clustering on PCA_data\n",
    "X = PCA_data.values\n",
    "X = StandardScaler().fit_transform(X) # standardize the data\n",
    "\n",
    "X_train, X_test = train_test_split(X, test_size=0.2, random_state=42) # split the data into training and testing sets\n",
    "\n",
    "kmeans = KMeans(n_clusters=3, random_state=42)  \n",
    "kmeans.fit(X_train) # fit the model to the training data\n",
    "y_kmeans = kmeans.predict(X_test) # predict the cluster labels for the test data\n",
    "\n",
    "# Calculate silhouette score\n",
    "#silhouette_avg = silhouette_score(X_test, y_kmeans) # calculate the average silhouette score\n",
    "#print(f'Silhouette Score: {silhouette_avg:.2f}') # print the silhouette score''ArithmeticError\n",
    "\n",
    "# Plot clustering results\n",
    "plt.figure(figsize=(10, 8))\n",
    "plt.scatter(X_test[:, 0], X_test[:, 1], c=y_kmeans, s=50, cmap='viridis') # scatter plot of the test data colored by cluster labels\n",
    "plt.scatter(kmeans.cluster_centers_[:, 0], kmeans.cluster_centers_[:, 1], c='red', s=200, alpha=0.75, marker='X') # plot the cluster centers\n",
    "plt.title('KMeans Clustering of PCA Data')\n",
    "plt.xlabel('Principal Component 1')\n",
    "plt.ylabel('Principal Component 2')\n",
    "plt.grid()\n",
    "plt.show() # show the plot"
   ]
  }
 ],
 "metadata": {
  "kernelspec": {
   "display_name": "Python 3",
   "language": "python",
   "name": "python3"
  },
  "language_info": {
   "codemirror_mode": {
    "name": "ipython",
    "version": 3
   },
   "file_extension": ".py",
   "mimetype": "text/x-python",
   "name": "python",
   "nbconvert_exporter": "python",
   "pygments_lexer": "ipython3",
   "version": "3.11.2"
  }
 },
 "nbformat": 4,
 "nbformat_minor": 5
}
