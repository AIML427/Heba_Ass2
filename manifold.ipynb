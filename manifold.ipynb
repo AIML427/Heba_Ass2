{
 "cells": [
  {
   "cell_type": "markdown",
   "id": "a5b12f06",
   "metadata": {},
   "source": [
    "### Load Library:"
   ]
  },
  {
   "cell_type": "code",
   "execution_count": 1,
   "id": "916e99cd",
   "metadata": {},
   "outputs": [],
   "source": [
    "import numpy\n",
    "import pandas as pd\n",
    "import numpy as np\n",
    "import matplotlib.pyplot as plt\n",
    "from sklearn.decomposition import PCA"
   ]
  },
  {
   "cell_type": "markdown",
   "id": "fc5626f2",
   "metadata": {},
   "source": [
    "### Dataset Preparation:"
   ]
  },
  {
   "cell_type": "code",
   "execution_count": null,
   "id": "be3212fe",
   "metadata": {},
   "outputs": [],
   "source": [
    "data = pd.read_csv('nci60_data.csv') # load dataset\n",
    "\n",
    "instances = data.iloc[:-1, 1:-1] # get instances\n",
    "labels = data.iloc[:-1, -1] # get labels"
   ]
  },
  {
   "cell_type": "markdown",
   "id": "153ae85a",
   "metadata": {},
   "source": [
    "### Traditional Manifold:"
   ]
  },
  {
   "cell_type": "code",
   "execution_count": null,
   "id": "884c0442",
   "metadata": {},
   "outputs": [],
   "source": []
  },
  {
   "cell_type": "markdown",
   "id": "6d9e5a7d",
   "metadata": {},
   "source": [
    "### Modeling Manifold:"
   ]
  },
  {
   "cell_type": "code",
   "execution_count": null,
   "id": "e8f46966",
   "metadata": {},
   "outputs": [],
   "source": []
  }
 ],
 "metadata": {
  "kernelspec": {
   "display_name": "Python 3",
   "language": "python",
   "name": "python3"
  },
  "language_info": {
   "codemirror_mode": {
    "name": "ipython",
    "version": 3
   },
   "file_extension": ".py",
   "mimetype": "text/x-python",
   "name": "python",
   "nbconvert_exporter": "python",
   "pygments_lexer": "ipython3",
   "version": "3.11.2"
  }
 },
 "nbformat": 4,
 "nbformat_minor": 5
}
