{
 "cells": [
  {
   "cell_type": "markdown",
   "id": "a5b12f06",
   "metadata": {},
   "source": [
    "### Load Library:"
   ]
  },
  {
   "cell_type": "code",
   "execution_count": null,
   "id": "916e99cd",
   "metadata": {},
   "outputs": [],
   "source": [
    "import numpy\n",
    "import pandas as pd\n",
    "import numpy as np\n",
    "import matplotlib.pyplot as plt\n",
    "from sklearn.decomposition import PCA"
   ]
  },
  {
   "cell_type": "markdown",
   "id": "fc5626f2",
   "metadata": {},
   "source": [
    "### Dataset Preparation:"
   ]
  },
  {
   "cell_type": "markdown",
   "id": "33a399fc",
   "metadata": {},
   "source": []
  },
  {
   "cell_type": "markdown",
   "id": "153ae85a",
   "metadata": {},
   "source": [
    "### Traditional Manifold:"
   ]
  },
  {
   "cell_type": "code",
   "execution_count": null,
   "id": "884c0442",
   "metadata": {},
   "outputs": [],
   "source": []
  },
  {
   "cell_type": "markdown",
   "id": "6d9e5a7d",
   "metadata": {},
   "source": [
    "### Modeling Manifold:"
   ]
  },
  {
   "cell_type": "code",
   "execution_count": null,
   "id": "e8f46966",
   "metadata": {},
   "outputs": [],
   "source": []
  }
 ],
 "metadata": {
  "kernelspec": {
   "display_name": "Python 3",
   "language": "python",
   "name": "python3"
  },
  "language_info": {
   "name": "python",
   "version": "3.11.2"
  }
 },
 "nbformat": 4,
 "nbformat_minor": 5
}
